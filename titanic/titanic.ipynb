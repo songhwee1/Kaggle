{
 "cells": [
  {
   "cell_type": "code",
   "execution_count": 36,
   "source": [
    "import pandas as pd\r\n",
    "import numpy as np\r\n",
    "\r\n",
    "train = pd.read_csv('train.csv')\r\n",
    "test = pd.read_csv('test.csv')\r\n",
    "print(train.head().to_markdown())"
   ],
   "outputs": [
    {
     "output_type": "stream",
     "name": "stdout",
     "text": [
      "|    |   PassengerId |   Survived |   Pclass | Name                                                | Sex    |   Age |   SibSp |   Parch | Ticket           |    Fare | Cabin   | Embarked   |\n",
      "|---:|--------------:|-----------:|---------:|:----------------------------------------------------|:-------|------:|--------:|--------:|:-----------------|--------:|:--------|:-----------|\n",
      "|  0 |             1 |          0 |        3 | Braund, Mr. Owen Harris                             | male   |    22 |       1 |       0 | A/5 21171        |  7.25   | nan     | S          |\n",
      "|  1 |             2 |          1 |        1 | Cumings, Mrs. John Bradley (Florence Briggs Thayer) | female |    38 |       1 |       0 | PC 17599         | 71.2833 | C85     | C          |\n",
      "|  2 |             3 |          1 |        3 | Heikkinen, Miss. Laina                              | female |    26 |       0 |       0 | STON/O2. 3101282 |  7.925  | nan     | S          |\n",
      "|  3 |             4 |          1 |        1 | Futrelle, Mrs. Jacques Heath (Lily May Peel)        | female |    35 |       1 |       0 | 113803           | 53.1    | C123    | S          |\n",
      "|  4 |             5 |          0 |        3 | Allen, Mr. William Henry                            | male   |    35 |       0 |       0 | 373450           |  8.05   | nan     | S          |\n"
     ]
    }
   ],
   "metadata": {}
  },
  {
   "cell_type": "code",
   "execution_count": 37,
   "source": [
    "import matplotlib.pyplot as plt\r\n",
    "%matplotlib inline\r\n",
    "import seaborn as sns\r\n",
    "sns.set()"
   ],
   "outputs": [],
   "metadata": {}
  },
  {
   "cell_type": "code",
   "execution_count": 38,
   "source": [
    "def pie_chart(feature):\r\n",
    "    feature_ratio = train[feature].value_counts(sort=False) \r\n",
    "    feature_size = feature_ratio.size \r\n",
    "    feature_index = feature_ratio.index \r\n",
    "    survived = train[train['Survived'] == 1][feature].value_counts()\r\n",
    "    dead = train[train['Survived'] == 0][feature].value_counts()     \r\n",
    "    plt.plot(aspect='auto') \r\n",
    "    plt.pie(feature_ratio, labels=feature_index, autopct='%1.1f%%') \r\n",
    "    plt.title(feature + '\\'s ratio in total')\r\n",
    "    plt.show() \r\n",
    "    for i, index in enumerate(feature_index): \r\n",
    "        plt.subplot(1, feature_size + 1, i + 1, aspect='equal') \r\n",
    "        plt.pie([survived[index], dead[index]], labels=['Survivied', 'Dead'], autopct='%1.1f%%')       \r\n",
    "        plt.title(str(index) + '\\'s ratio')\r\n",
    "    \r\n",
    "    plt.show()"
   ],
   "outputs": [],
   "metadata": {}
  },
  {
   "cell_type": "code",
   "execution_count": null,
   "source": [
    "pie_chart('Sex')"
   ],
   "outputs": [],
   "metadata": {}
  }
 ],
 "metadata": {
  "orig_nbformat": 4,
  "language_info": {
   "name": "python",
   "version": "3.9.2",
   "mimetype": "text/x-python",
   "codemirror_mode": {
    "name": "ipython",
    "version": 3
   },
   "pygments_lexer": "ipython3",
   "nbconvert_exporter": "python",
   "file_extension": ".py"
  },
  "kernelspec": {
   "name": "python3",
   "display_name": "Python 3.9.2 64-bit"
  },
  "interpreter": {
   "hash": "e22b99c1d45e3a067c29a746854ca3c010d3d979dce7e801308b558d97a258f8"
  }
 },
 "nbformat": 4,
 "nbformat_minor": 2
}